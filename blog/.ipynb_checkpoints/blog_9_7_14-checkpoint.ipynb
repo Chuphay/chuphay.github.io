{
 "metadata": {
  "name": ""
 },
 "nbformat": 3,
 "nbformat_minor": 0,
 "worksheets": [
  {
   "cells": [
    {
     "cell_type": "heading",
     "level": 1,
     "metadata": {},
     "source": [
      "iAnimation & the Lorenz Attractor "
     ]
    },
    {
     "cell_type": "code",
     "collapsed": false,
     "input": [
      "from iAnimation import iAnimation\n",
      "\n",
      "\n",
      "initial_x = [8,3,10]\n",
      "def Lorenz(x):\n",
      "    x_temp = (10*x[1] - 10*x[0])/300\n",
      "    y_temp = (x[0]*(28 -x[2]) - x[1])/300\n",
      "    z_temp = (x[0]*x[1] - (8.0/3)*x[2])/300\n",
      "    return [x[0]+x_temp, x[1]+ y_temp, x[2]+z_temp]\n",
      "\n",
      "\n",
      "screen = iAnimation(scale = 5, x = 50, y = 30)       \n",
      "screen.next_position(Lorenz)\n",
      "\n",
      "\n",
      "screen.animate(init = initial_x, clear_screen = False)"
     ],
     "language": "python",
     "metadata": {},
     "outputs": [
      {
       "html": [
        "<canvas id='canvas' width = '600px' height = '400px'  style='border:1px solid #000000;'>\n",
        "        </canvas>\n",
        "<script>\n",
        "var canvas = document.getElementById('canvas');\n",
        "var context = canvas.getContext('2d');\n",
        "var scaleConstant = 5;\n",
        "var x_shift = 50*scaleConstant;\n",
        "var y_shift = 30*scaleConstant;\n",
        "context.transform(scaleConstant,0,0,scaleConstant,x_shift, y_shift);\n",
        "window.requestAnimFrame = (function(callback) {\n",
        "    return window.requestAnimationFrame || \n",
        "    window.webkitRequestAnimationFrame || \n",
        "    window.mozRequestAnimationFrame || \n",
        "    window.oRequestAnimationFrame || \n",
        "    window.msRequestAnimationFrame ||\n",
        "    function(callback) {\n",
        "          window.setTimeout(callback, 1000 / 90);\n",
        "    };})();\n",
        "function draw(x,y){ \n",
        "    context.beginPath();\n",
        "    context.rect(x, y, 1/scaleConstant, 1/scaleConstant);\n",
        "    context.fillStyle = 'black';\n",
        "    context.fill();  \n",
        "}\n",
        "function next(x) {\n",
        "\tvar x_temp = (10*x[1] - 10*x[0])/300;\n",
        "\tvar y_temp = (x[0]*(28 -x[2]) - x[1])/300;\n",
        "\tvar z_temp = (x[0]*x[1] - (8.0/3)*x[2])/300;\n",
        "\treturn [x[0]+x_temp, x[1]+ y_temp, x[2]+z_temp];\n",
        "}\n",
        "var x = [8, 3, 10];\n",
        "function main(){\n",
        "    //context.clearRect(0,0,canvas.width/scaleConstant,canvas.height/scaleConstant);\n",
        "    x = next(x);\n",
        "    draw(x[0],x[1]);\n",
        "    requestAnimFrame(function(){main();}); \n",
        "}\n",
        "main();\n",
        "</script>"
       ],
       "metadata": {},
       "output_type": "pyout",
       "prompt_number": 19,
       "text": [
        "<IPython.core.display.HTML at 0x3914650>"
       ]
      }
     ],
     "prompt_number": 19
    },
    {
     "cell_type": "markdown",
     "metadata": {},
     "source": [
      "And there it is! iAnimation and the Lorenz attractor!\n",
      "\n",
      "I'm not going to get into the Lorenz attractor because, to be perfectly honest, Wikipedia does a better job than I could ever do. Go check it out, here's the [link](http://en.wikipedia.org/wiki/Lorenz_system). "
     ]
    },
    {
     "cell_type": "heading",
     "level": 3,
     "metadata": {},
     "source": [
      "iAnimation"
     ]
    },
    {
     "cell_type": "markdown",
     "metadata": {},
     "source": [
      "On the other hand, I am super excited about iAnimation. \n",
      "\n",
      "I like looking at pictures that move. So I looked around for an animation package for the iPython notebook. The only thing I found was Jake Van der Pas's [blog](http://jakevdp.github.io/blog/2012/08/18/matplotlib-animation-tutorial/). I tried to use this, but... well, it didn't work so well for me.\n",
      "\n",
      "What I wanted to build was a really simple interface between python and the HTML. Luckily, iPython supplies a tool suited to the task :) "
     ]
    },
    {
     "cell_type": "code",
     "collapsed": false,
     "input": [
      "from IPython.core.display import HTML\n",
      "\n",
      "HTML(\"<p style='color: purple'>Hello world!</p>\")"
     ],
     "language": "python",
     "metadata": {},
     "outputs": [
      {
       "html": [
        "<p style='color: purple'>Hello world!</p>"
       ],
       "metadata": {},
       "output_type": "pyout",
       "prompt_number": 27,
       "text": [
        "<IPython.core.display.HTML at 0x386cf10>"
       ]
      }
     ],
     "prompt_number": 27
    },
    {
     "cell_type": "markdown",
     "metadata": {},
     "source": [
      "My first programming language was HTML/JavaScript and I had already done some animation using it, so I was psyched to see this functionality. In fact, the first project that I ever worked on was a simple [game](http://jsbin.com/uZiPAke/28/edit), so I was able to lift a lot of boiler-plate code to help this project along."
     ]
    },
    {
     "cell_type": "markdown",
     "metadata": {},
     "source": [
      "One of the main issues that I had to sort out was being able to read the python that the user wanted to animate. (I guess the user means me ... ) I happened upon a really cool module named 'inspect'. The module is capable of all sorts of twisted coding and I found it indispensible for this project. Here's a simple example of what it does:"
     ]
    },
    {
     "cell_type": "code",
     "collapsed": false,
     "input": [
      "from inspect import getsourcelines\n",
      "\n",
      "def foo(bar):\n",
      "    #this is a comment\n",
      "    \n",
      "    return bar\n",
      "\n",
      "getsourcelines(foo)    "
     ],
     "language": "python",
     "metadata": {},
     "outputs": [
      {
       "output_type": "stream",
       "stream": "stdout",
       "text": [
        "([u'def foo(bar):\\n', u'    #this is a comment\\n', u'    \\n', u'    return bar\\n'], 3)\n"
       ]
      }
     ],
     "prompt_number": 30
    },
    {
     "cell_type": "markdown",
     "metadata": {},
     "source": [
      "After that it was a fairly simple matter to put it all together into one package. Rather than pasting all the code here, I'm going to ask you guys to fork the project. Here's the [link](https://github.com/Chuphay/iAnimation). \n",
      "\n",
      "\n",
      "Hopefully I will be adding more functionality to this program in the future.\n",
      "\n",
      "That's really all I got for this blog post...  As always, hit me up with an email, or check out the [archive](/blog/).\n",
      "\n"
     ]
    }
   ],
   "metadata": {}
  }
 ]
}