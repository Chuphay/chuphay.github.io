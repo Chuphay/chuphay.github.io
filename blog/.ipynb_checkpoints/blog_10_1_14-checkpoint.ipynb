{
 "metadata": {
  "name": "",
  "signature": "sha256:af3c746bec45507574b5b2a69638c99d3d32535b9a17f9d71e4ac532abd131c0"
 },
 "nbformat": 3,
 "nbformat_minor": 0,
 "worksheets": [
  {
   "cells": [
    {
     "cell_type": "code",
     "collapsed": false,
     "input": [
      "import iAnimation.iAnimation as iA\n",
      "import imp\n",
      "iA = imp.reload(iA)\n",
      "\n",
      "\n",
      "def Monte():\n",
      "    total += 1\n",
      "    x = 2*np.random.rand()-1\n",
      "    y = 2*np.random.rand()-1\n",
      "    if(x*x+y*y<1):\n",
      "        count += 1\n",
      "        iA.draw(x, y, shape = 'circle', color = 'red')\n",
      "    else:\n",
      "        iAnimation.draw(x, y, shape = 'circle', color = 'black')\n",
      "        \n",
      "\n",
      "\n",
      "        \n",
      "\n",
      "screen = iA.iAnimation(scale = 200, x = 1, y = 1, width = '400px')       \n",
      "\n",
      "screen.add_object(Monte)\n",
      "screen.add_globals(['total','count'],[0,0])\n",
      "\n",
      "screen.animate(clear_screen = False, tick = 10)\n",
      "\n"
     ],
     "language": "python",
     "metadata": {},
     "outputs": [
      {
       "html": [
        "<canvas id='canvas' width = '400px' height = '400px'  style='border:1px solid #000000; background-color: grey;'>\n",
        "        </canvas>\n",
        "<script>\n",
        "var canvas = document.getElementById('canvas');\n",
        "var context = canvas.getContext('2d');\n",
        "var scaleConstant = 200;\n",
        "var x_shift = 1*scaleConstant;\n",
        "var y_shift = 1*scaleConstant;\n",
        "context.transform(scaleConstant,0,0,scaleConstant,x_shift, y_shift);\n",
        "window.requestAnimFrame = (function(callback) {\n",
        "    return window.requestAnimationFrame || \n",
        "    window.webkitRequestAnimationFrame || \n",
        "    window.mozRequestAnimationFrame || \n",
        "    window.oRequestAnimationFrame || \n",
        "    window.msRequestAnimationFrame ||\n",
        "    function(callback) {\n",
        "          window.setTimeout(callback, 1000 / 90);\n",
        "    };})();\n",
        "function draw_pixel(x,y){ \n",
        "    context.beginPath();\n",
        "    context.rect(x, y, 1/scaleConstant, 1/scaleConstant);\n",
        "    context.fillStyle = 'black';\n",
        "    context.fill();  \n",
        "}\n",
        "function draw_circle(x,y, color, radius){\n",
        "    context.beginPath();\n",
        "    context.arc(x, y, radius/scaleConstant, 0, 2 * Math.PI, false);\n",
        "    context.fillStyle = color;\n",
        "    context.fill();\n",
        "    //context.lineWidth = 1;\n",
        "    //context.strokeStyle = '#003300';\n",
        "    //context.stroke();\n",
        "}\n",
        "\n",
        "\n",
        "total = 0;\n",
        "count = 0;\n",
        "function next(x) { \n",
        "    total += 1;\n",
        "    x = 2*Math.random()-1;\n",
        "    y = 2*Math.random()-1;\n",
        "    if(x*x+y*y<1) { \n",
        "        count += 1;\n",
        "        draw_circle(x,y,  'red', 1);\n",
        "    }\n",
        "    else { \n",
        "        draw_circle(x,y,  'black', 1);\n",
        "    }\n",
        "}\n",
        "var x = [0, 0];\n",
        "            ticker = 0;       \n",
        "            function main(){\n",
        "            //context.clearRect(-1,-1, canvas.width/scaleConstant,canvas.height/scaleConstant);\n",
        "            ticker++;\n",
        "            if(ticker >= 10){\n",
        "            ticker = 0;\n",
        "            next();\n",
        "            }            \n",
        "            requestAnimFrame(function(){main();}); \n",
        "            }\n",
        "            main();\n",
        "            </script>"
       ],
       "metadata": {},
       "output_type": "pyout",
       "prompt_number": 16,
       "text": [
        "<IPython.core.display.HTML at 0xb14e76ac>"
       ]
      }
     ],
     "prompt_number": 16
    },
    {
     "cell_type": "code",
     "collapsed": false,
     "input": [
      "import numpy as np\n",
      "def pi():\n",
      "    total = 10000\n",
      "    count = 0\n",
      "    for i in range(total):\n",
      "        x = np.random.rand()\n",
      "        y = np.random.rand()\n",
      "        if(x**2+y**2<1):\n",
      "            count += 1\n",
      "    return 4*count/total\n",
      "\n",
      "        \n",
      "print (pi())  \n",
      "\n"
     ],
     "language": "python",
     "metadata": {},
     "outputs": [
      {
       "output_type": "stream",
       "stream": "stdout",
       "text": [
        "3.1312\n"
       ]
      }
     ],
     "prompt_number": 2
    },
    {
     "cell_type": "code",
     "collapsed": false,
     "input": [
      "import re"
     ],
     "language": "python",
     "metadata": {},
     "outputs": [],
     "prompt_number": 4
    },
    {
     "cell_type": "code",
     "collapsed": false,
     "input": [
      " y = re.search('hi', 'hello hi there')\n",
      "print(y.span())"
     ],
     "language": "python",
     "metadata": {},
     "outputs": [
      {
       "output_type": "stream",
       "stream": "stdout",
       "text": [
        "(6, 8)\n"
       ]
      }
     ],
     "prompt_number": 14
    },
    {
     "cell_type": "code",
     "collapsed": false,
     "input": [
      "re.search(r'\\)|,', \"y   ) o, \")"
     ],
     "language": "python",
     "metadata": {},
     "outputs": [
      {
       "metadata": {},
       "output_type": "pyout",
       "prompt_number": 6,
       "text": [
        "<_sre.SRE_Match object; span=(4, 5), match=')'>"
       ]
      }
     ],
     "prompt_number": 6
    }
   ],
   "metadata": {}
  }
 ]
}