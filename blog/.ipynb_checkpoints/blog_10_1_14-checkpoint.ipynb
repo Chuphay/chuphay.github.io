{
 "metadata": {
  "name": "",
  "signature": "sha256:996ae01dca812c37ec3f447d66b8bebf1638b1811c78672b7ea71a21499186e7"
 },
 "nbformat": 3,
 "nbformat_minor": 0,
 "worksheets": [
  {
   "cells": [
    {
     "cell_type": "code",
     "collapsed": false,
     "input": [
      "import iAnimation as iA\n",
      "import imp\n",
      "iA = imp.reload(iA)\n",
      "\n",
      "\n",
      "iA._draw  =  \"\"\"function draw(x,y){ \n",
      "    context.beginPath();\n",
      "    context.arc(x, y, 5, 0, 2 * Math.PI, false);\n",
      "    context.fillStyle = 'green';\n",
      "    context.fill();\n",
      "    context.lineWidth = 1;\n",
      "    context.strokeStyle = '#003300';\n",
      "    context.stroke();\n",
      "    //context.rect(x, y, 1/scaleConstant, 1/scaleConstant);\n",
      "    //context.fillStyle = 'red';\n",
      "    //context.fill();  \n",
      "}\\n\"\"\"\n",
      "\n",
      "initial_x = [8,3,10]\n",
      "def Lorenz(x):\n",
      "    x_temp = (10*x[1] - 10*x[0])/300\n",
      "    y_temp = (x[0]*(28 -x[2]) - x[1])/300\n",
      "    z_temp = (x[0]*x[1] - (8.0/3)*x[2])/300\n",
      "    return [x[0]+x_temp, x[1]+ y_temp, x[2]+z_temp]\n",
      "\n",
      "\n",
      "screen = iA.iAnimation(scale = 5, x = 50, y = 30)       \n",
      "#screen.next_position(Lorenz)\n",
      "screen.add_object(Monte)\n",
      "\n",
      "screen.animate(init = initial_x, clear_screen = True, tick = 1)\n",
      "\n"
     ],
     "language": "python",
     "metadata": {},
     "outputs": [
      {
       "output_type": "stream",
       "stream": "stdout",
       "text": [
        "add-object arg: None\n"
       ]
      },
      {
       "ename": "RuntimeError",
       "evalue": "Before animating, you must give a function to animate. \n Use .function",
       "output_type": "pyerr",
       "traceback": [
        "\u001b[1;31m---------------------------------------------------------------------------\u001b[0m\n\u001b[1;31mRuntimeError\u001b[0m                              Traceback (most recent call last)",
        "\u001b[1;32m<ipython-input-102-b17bd2960f5c>\u001b[0m in \u001b[0;36m<module>\u001b[1;34m()\u001b[0m\n\u001b[0;32m     29\u001b[0m \u001b[0mscreen\u001b[0m\u001b[1;33m.\u001b[0m\u001b[0madd_object\u001b[0m\u001b[1;33m(\u001b[0m\u001b[0mMonte\u001b[0m\u001b[1;33m)\u001b[0m\u001b[1;33m\u001b[0m\u001b[0m\n\u001b[0;32m     30\u001b[0m \u001b[1;33m\u001b[0m\u001b[0m\n\u001b[1;32m---> 31\u001b[1;33m \u001b[0mscreen\u001b[0m\u001b[1;33m.\u001b[0m\u001b[0manimate\u001b[0m\u001b[1;33m(\u001b[0m\u001b[0minit\u001b[0m \u001b[1;33m=\u001b[0m \u001b[0minitial_x\u001b[0m\u001b[1;33m,\u001b[0m \u001b[0mclear_screen\u001b[0m \u001b[1;33m=\u001b[0m \u001b[1;32mTrue\u001b[0m\u001b[1;33m,\u001b[0m \u001b[0mtick\u001b[0m \u001b[1;33m=\u001b[0m \u001b[1;36m1\u001b[0m\u001b[1;33m)\u001b[0m\u001b[1;33m\u001b[0m\u001b[0m\n\u001b[0m\u001b[0;32m     32\u001b[0m \u001b[1;33m\u001b[0m\u001b[0m\n",
        "\u001b[1;32m/home/chuphay/chuphay/blog/iAnimation/__init__.py\u001b[0m in \u001b[0;36manimate\u001b[1;34m(self, init, x, y, clear_screen, tick)\u001b[0m\n\u001b[0;32m     85\u001b[0m         \"\"\"\n\u001b[0;32m     86\u001b[0m \u001b[1;33m\u001b[0m\u001b[0m\n\u001b[1;32m---> 87\u001b[1;33m         \u001b[1;32mif\u001b[0m\u001b[1;33m(\u001b[0m\u001b[0mself\u001b[0m\u001b[1;33m.\u001b[0m\u001b[0m_function\u001b[0m \u001b[1;33m!=\u001b[0m \u001b[1;32mTrue\u001b[0m\u001b[1;33m)\u001b[0m\u001b[1;33m:\u001b[0m\u001b[1;33m\u001b[0m\u001b[0m\n\u001b[0m\u001b[0;32m     88\u001b[0m             \u001b[1;32mraise\u001b[0m \u001b[0mRuntimeError\u001b[0m\u001b[1;33m(\u001b[0m \u001b[1;34m'Before animating, you must give a function to animate. \\n Use .function'\u001b[0m\u001b[1;33m)\u001b[0m\u001b[1;33m\u001b[0m\u001b[0m\n\u001b[0;32m     89\u001b[0m \u001b[1;33m\u001b[0m\u001b[0m\n",
        "\u001b[1;31mRuntimeError\u001b[0m: Before animating, you must give a function to animate. \n Use .function"
       ]
      }
     ],
     "prompt_number": 102
    },
    {
     "cell_type": "code",
     "collapsed": false,
     "input": [
      "from inspect import getsourcelines, getargspec\n",
      "\n",
      "def foo(x):\n",
      "    if (x == 1):          \n",
      "        print('one')\n",
      "    else:\n",
      "        if (x == 2):\n",
      "            print('two')\n",
      "            print('this')\n",
      "        elif (x<1):\n",
      "            print('less than one')\n",
      "    print('hmmm.')        \n",
      "   \n",
      "def internal_parser(line, spot):\n",
      "    \"\"\"checking for indentation\"\"\"\n",
      "    space = len(line) - len(line.lstrip())\n",
      "    if(space>spot):\n",
      "        spot = space\n",
      "    elif(space<spot):\n",
      "        spot = space\n",
      "    else:\n",
      "        pass\n",
      "    if(spot%4 != 0): raise ValueError('spot%4 != 0')     \n",
      "    return spot    \n",
      "    \n",
      "def parse(fn):\n",
      "    print(\"FUNCTION NAME: \" + fn.__name__)\n",
      "    z, g = getsourcelines(fn)\n",
      "    output = ''\n",
      "    try:\n",
      "        var_name = getargspec(fn).args[0]\n",
      "    except IndexError:\n",
      "        print(\"function has no argument\")\n",
      "    #the spot variable will be used to keep track of spacing and indentation\n",
      "    spot = 0 \n",
      "\n",
      "    for line in z:\n",
      "        #I ended up using another function to check for indentations\n",
      "        #but perhaps this isn't actually necessary\n",
      "        new_spot = internal_parser(line,spot)\n",
      "        line = line.strip()\n",
      "        \n",
      "\n",
      "        if(new_spot>spot):\n",
      "            #we have an indent, this corresponds with a new phrase, hence a brace\n",
      "            spot = new_spot\n",
      "            output += ' { \\n' \n",
      "\n",
      "        elif(new_spot<spot):\n",
      "            #end of a phrase, or perhaps more than one\n",
      "            for i in range((spot-new_spot)//4):\n",
      "                output += ' '*(spot-4*i-4) +'}\\n'\n",
      "            spot = new_spot    \n",
      "        else:\n",
      "            #nothing happened, don't really need this condition\n",
      "            spot = new_spot\n",
      "            \n",
      "        #here's some fairly general control operations    \n",
      "        if(line[:3] == 'def'):\n",
      "            output += ' '*spot +'function next(x)'\n",
      "        elif(line[:2] == 'if'):\n",
      "            output += ' '*spot +line[:-1]\n",
      "        elif(line[:4] == 'else'):\n",
      "            output += ' '*spot +line[:-1]\n",
      "        elif(line[:4] == 'elif'):\n",
      "            output += ' '*spot +'else if ' + line[4:-1]\n",
      "            \n",
      "        #here's some more specific commands    \n",
      "        elif(line[:3] == 'iA.'):\n",
      "            output += ' '*spot + line[3:] +';\\n'\n",
      "        elif(line[:11] == 'iAnimation.'):\n",
      "            output += ' '*spot + line[11:] +';\\n'\n",
      "\n",
      "            \n",
      "        \n",
      "        #here's some weird outliers\n",
      "        elif 'np.random.rand' in line:\n",
      "            line = str.replace(line,'np.random.rand','Math.random')\n",
      "            output += ' '*spot + line +';\\n'               \n",
      "        \n",
      "        \n",
      "        \n",
      "        #final clean up... should almost be an error :/\n",
      "        else:\n",
      "            output += ' '*spot + line +';\\n'\n",
      "    \n",
      "    #checking for final closing braces\n",
      "    for i in range(spot//4):\n",
      "        output += ' '*(spot-4*i-4) +'}\\n'            \n",
      "    \n",
      "\n",
      "    return output       \n",
      "\n",
      "    \n",
      "print (parse(foo))"
     ],
     "language": "python",
     "metadata": {},
     "outputs": [
      {
       "output_type": "stream",
       "stream": "stdout",
       "text": [
        "FUNCTION NAME: foo\n",
        "function next(x) { \n",
        "    if (x == 1) { \n",
        "        print('one');\n",
        "    }\n",
        "    else { \n",
        "        if (x == 2) { \n",
        "            print('two');\n",
        "            print('this');\n",
        "        }\n",
        "        else if  (x<1) { \n",
        "            print('less than one');\n",
        "        }\n",
        "    }\n",
        "    print('hmmm.');\n",
        "}\n",
        "\n"
       ]
      }
     ],
     "prompt_number": 93
    },
    {
     "cell_type": "code",
     "collapsed": false,
     "input": [],
     "language": "python",
     "metadata": {},
     "outputs": []
    },
    {
     "cell_type": "code",
     "collapsed": false,
     "input": [],
     "language": "python",
     "metadata": {},
     "outputs": []
    },
    {
     "cell_type": "code",
     "collapsed": false,
     "input": [
      "import numpy as np\n",
      "def pi():\n",
      "    total = 10000\n",
      "    count = 0\n",
      "    for i in range(total):\n",
      "        x = np.random.rand()\n",
      "        y = np.random.rand()\n",
      "        if(x**2+y**2<1):\n",
      "            count += 1\n",
      "    return 4*count/total\n",
      "\n",
      "        \n",
      "print (pi())  \n",
      "\n"
     ],
     "language": "python",
     "metadata": {},
     "outputs": [
      {
       "output_type": "stream",
       "stream": "stdout",
       "text": [
        "3.126\n"
       ]
      }
     ],
     "prompt_number": 38
    },
    {
     "cell_type": "code",
     "collapsed": false,
     "input": [
      "def draw(shape = 'circle', color = 'black' ):\n",
      "    pass\n",
      "\n",
      "global total\n",
      "global count\n",
      "\n",
      "def Monte():\n",
      "    total += 1\n",
      "    x = np.random.rand()\n",
      "    y = np.random.rand()\n",
      "    if(x*x+y*y<1):\n",
      "        count += 1\n",
      "        iAnimation.draw(x, y, shape = 'circle', color = 'red')\n",
      "    else:\n",
      "        iA.draw(x, y, shape = 'circle', color = 'black')\n",
      "        \n",
      "print( parse(Monte)  )\n"
     ],
     "language": "python",
     "metadata": {},
     "outputs": [
      {
       "output_type": "stream",
       "stream": "stdout",
       "text": [
        "FUNCTION NAME: Monte\n",
        "function has no argument\n",
        "function next(x) { \n",
        "    total += 1;\n",
        "    x = Math.random();\n",
        "    y = Math.random();\n",
        "    if(x*x+y*y<1) { \n",
        "        count += 1;\n",
        "        draw(x, y, shape = 'circle', color = 'red');\n",
        "    }\n",
        "    else { \n",
        "        draw(x, y, shape = 'circle', color = 'black');\n",
        "    }\n",
        "}\n",
        "\n"
       ]
      }
     ],
     "prompt_number": 95
    },
    {
     "cell_type": "code",
     "collapsed": false,
     "input": [],
     "language": "python",
     "metadata": {},
     "outputs": []
    },
    {
     "cell_type": "code",
     "collapsed": false,
     "input": [],
     "language": "python",
     "metadata": {},
     "outputs": []
    },
    {
     "cell_type": "code",
     "collapsed": false,
     "input": [
      "from IPython.core.display import HTML\n",
      "HTML('<p>yo</p>')\n"
     ],
     "language": "python",
     "metadata": {},
     "outputs": [
      {
       "html": [
        "<p>yo</p>"
       ],
       "metadata": {},
       "output_type": "pyout",
       "prompt_number": 52,
       "text": [
        "<IPython.core.display.HTML at 0xb482ba4c>"
       ]
      }
     ],
     "prompt_number": 52
    },
    {
     "cell_type": "code",
     "collapsed": false,
     "input": [
      "\n"
     ],
     "language": "python",
     "metadata": {},
     "outputs": [
      {
       "output_type": "stream",
       "stream": "stdout",
       "text": [
        "{\n",
        "5\n",
        "{\n",
        "4\n",
        "{\n",
        "3\n",
        "{\n",
        "2\n",
        "{\n",
        "1\n",
        "}\n",
        "}\n",
        "}\n",
        "}\n",
        "}\n"
       ]
      }
     ],
     "prompt_number": 95
    }
   ],
   "metadata": {}
  }
 ]
}