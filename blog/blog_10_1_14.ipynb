{
 "metadata": {
  "name": "",
  "signature": "sha256:a54466020b5be3ab7047d3e170b9816521450e0eb852973945a53d670a2b629a"
 },
 "nbformat": 3,
 "nbformat_minor": 0,
 "worksheets": [
  {
   "cells": [
    {
     "cell_type": "code",
     "collapsed": false,
     "input": [
      "import iAnimation.iAnimation as iA\n",
      "\n",
      "def Monte():\n",
      "    total += 1\n",
      "    x = 2*np.random.rand()-1\n",
      "    y = 2*np.random.rand()-1\n",
      "    if(x*x+y*y<1):\n",
      "        count += 1\n",
      "        iA.draw(x, y, shape = 'circle', color = 'red')\n",
      "    else:\n",
      "        iA.draw(x, y, shape = 'circle', color = 'black')\n",
      "        \n",
      "\n",
      "screen = iA.iAnimation(scale = 200, x = 1, y = 1, width = '400px')       \n",
      "screen.add_object(Monte)\n",
      "screen.add_globals(['total','count'],[0,0])\n",
      "screen.message(['Appoximation of Pi = ',' 4*total/count'])\n",
      "screen.animate(clear_screen = False)"
     ],
     "language": "python",
     "metadata": {},
     "outputs": [
      {
       "html": [
        "<canvas id='canvas' width = '400px' height = '400px'  style='border:1px solid #000000; background-color: grey;'>\n",
        "        </canvas>\n",
        "<script>\n",
        "var canvas = document.getElementById('canvas');\n",
        "var context = canvas.getContext('2d');\n",
        "var scaleConstant = 200;\n",
        "var x_shift = 1*scaleConstant;\n",
        "var y_shift = 1*scaleConstant;\n",
        "context.transform(scaleConstant,0,0,scaleConstant,x_shift, y_shift);\n",
        "window.requestAnimFrame = (function(callback) {\n",
        "    return window.requestAnimationFrame || \n",
        "    window.webkitRequestAnimationFrame || \n",
        "    window.mozRequestAnimationFrame || \n",
        "    window.oRequestAnimationFrame || \n",
        "    window.msRequestAnimationFrame ||\n",
        "    function(callback) {\n",
        "          window.setTimeout(callback, 1000 / 90);\n",
        "    };})();\n",
        "function draw_pixel(x,y){ \n",
        "    context.beginPath();\n",
        "    context.rect(x, y, 1/scaleConstant, 1/scaleConstant);\n",
        "    context.fillStyle = 'black';\n",
        "    context.fill();  \n",
        "}\n",
        "function draw_circle(x,y, color, radius){\n",
        "    context.beginPath();\n",
        "    context.arc(x, y, radius/scaleConstant, 0, 2 * Math.PI, false);\n",
        "    context.fillStyle = color;\n",
        "    context.fill();\n",
        "    //context.lineWidth = 1;\n",
        "    //context.strokeStyle = '#003300';\n",
        "    //context.stroke();\n",
        "}\n",
        "\n",
        "\n",
        "total = 0;\n",
        "count = 0;\n",
        "function next(x) { \n",
        "    total += 1;\n",
        "    x = 2*Math.random()-1;\n",
        "    y = 2*Math.random()-1;\n",
        "    if(x*x+y*y<1) { \n",
        "        count += 1;\n",
        "        draw_circle(x,y,  'red', 1);\n",
        "    }\n",
        "    else { \n",
        "        draw_circle(x,y,  'black', 1);\n",
        "    }\n",
        "}\n",
        "var x = [0, 0];\n",
        "            function write(x){\n",
        "            document.getElementById(\"log\").innerHTML = x;\n",
        "            }\n",
        "            ticker = 0;       \n",
        "            function main(){\n",
        "            //context.clearRect(-1,-1, canvas.width/scaleConstant,canvas.height/scaleConstant);\n",
        "            ticker++;\n",
        "            if(ticker >= 1){\n",
        "            ticker = 0;\n",
        "            next();\n",
        "            write('Appoximation of Pi = ' + 4*count/total);\n",
        "            }            \n",
        "            requestAnimFrame(function(){main();}); \n",
        "            }\n",
        "            main();\n",
        " \n",
        "\n",
        "            </script>\n",
        "            <div id = 'log'></div>"
       ],
       "metadata": {},
       "output_type": "pyout",
       "prompt_number": 88,
       "text": [
        "<IPython.core.display.HTML at 0xb0c6ea2c>"
       ]
      }
     ],
     "prompt_number": 88
    },
    {
     "cell_type": "code",
     "collapsed": false,
     "input": [
      "def pi(times):\n",
      "    count = 0\n",
      "    total = 0\n",
      "    for i in range(times):\n",
      "        total += 1\n",
      "        x = 2*np.random.rand()-1\n",
      "        y = 2*np.random.rand()-1\n",
      "        if(x*x + y*y < 1):\n",
      "            count += 1\n",
      "    return 4*count/total        \n",
      "pi(1000)        "
     ],
     "language": "python",
     "metadata": {},
     "outputs": [
      {
       "metadata": {},
       "output_type": "pyout",
       "prompt_number": 70,
       "text": [
        "3.172"
       ]
      }
     ],
     "prompt_number": 70
    }
   ],
   "metadata": {}
  }
 ]
}