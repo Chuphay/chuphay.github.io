{
 "metadata": {
  "name": ""
 },
 "nbformat": 3,
 "nbformat_minor": 0,
 "worksheets": [
  {
   "cells": [
    {
     "cell_type": "code",
     "collapsed": false,
     "input": [
      "import iAnimation as iA\n",
      "\n",
      "\n",
      "\n",
      "iA._draw  =  \"\"\"function draw(x,y){ \n",
      "    context.beginPath();\n",
      "    context.rect(x, y, 1/scaleConstant, 1/scaleConstant);\n",
      "    context.fillStyle = 'black';\n",
      "    context.fill();  \n",
      "}\\n\"\"\"\n",
      "\n"
     ],
     "language": "python",
     "metadata": {},
     "outputs": [],
     "prompt_number": 1
    }
   ],
   "metadata": {}
  }
 ]
}