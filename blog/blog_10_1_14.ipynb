{
 "metadata": {
  "name": "",
  "signature": "sha256:5619932674a13eddf9e0d4ad5cfc5d265f2300cbb43dafcdd2c1938fc649fdde"
 },
 "nbformat": 3,
 "nbformat_minor": 0,
 "worksheets": [
  {
   "cells": [
    {
     "cell_type": "code",
     "collapsed": false,
     "input": [
      "import iAnimation.iAnimation as iA\n",
      "import imp\n",
      "iA = imp.reload(iA)\n",
      "\n",
      "def draw(shape = 'circle', color = 'black' ):\n",
      "    pass\n",
      "\n",
      "global total\n",
      "global count\n",
      "\n",
      "def Monte():\n",
      "    total += 1\n",
      "    x = np.random.rand()\n",
      "    y = np.random.rand()\n",
      "    if(x*x+y*y<1):\n",
      "        count += 1\n",
      "        iAnimation.draw(x, y, shape = 'circle', color = 'red')\n",
      "    else:\n",
      "        iA.draw(x, y, shape = 'circle', color = 'black')\n",
      "        \n",
      "#print( iA.parse(Monte)  )\n",
      "\n",
      "\n",
      "\n",
      "iA._draw  =  \"\"\"function draw(x,y){ \n",
      "    context.beginPath();\n",
      "    context.arc(x, y, 5, 0, 2 * Math.PI, false);\n",
      "    context.fillStyle = 'green';\n",
      "    context.fill();\n",
      "    context.lineWidth = 1;\n",
      "    context.strokeStyle = '#003300';\n",
      "    context.stroke();\n",
      "    //context.rect(x, y, 1/scaleConstant, 1/scaleConstant);\n",
      "    //context.fillStyle = 'red';\n",
      "    //context.fill();  \n",
      "}\\n\"\"\"\n",
      "\n",
      "initial_x = [8,3,10]\n",
      "def Lorenz(x):\n",
      "    x_temp = (10*x[1] - 10*x[0])/300\n",
      "    y_temp = (x[0]*(28 -x[2]) - x[1])/300\n",
      "    z_temp = (x[0]*x[1] - (8.0/3)*x[2])/300\n",
      "    return [x[0]+x_temp, x[1]+ y_temp, x[2]+z_temp]\n",
      "\n",
      "\n",
      "\n",
      "screen = iA.iAnimation(scale = 5, x = 50, y = 30)       \n",
      "#screen.next_position(Lorenz)\n",
      "screen.add_object(Monte)\n",
      "\n",
      "#screen.animate(init = initial_x, clear_screen = True, tick = 1)\n",
      "\n"
     ],
     "language": "python",
     "metadata": {},
     "outputs": [
      {
       "output_type": "stream",
       "stream": "stdout",
       "text": [
        "add-object arg: None\n",
        "function has no argument\n",
        "function next(x) { \n",
        "    total += 1;\n",
        "    x = Math.random();\n",
        "    y = Math.random();\n",
        "    if(x*x+y*y<1) { \n",
        "        count += 1;\n",
        "        draw(x, y, shape = 'circle', color = 'red');\n",
        "    }\n",
        "    else { \n",
        "        draw(x, y, shape = 'circle', color = 'black');\n",
        "    }\n",
        "}\n",
        "\n"
       ]
      }
     ],
     "prompt_number": 6
    },
    {
     "cell_type": "code",
     "collapsed": false,
     "input": [
      "import numpy as np\n",
      "def pi():\n",
      "    total = 10000\n",
      "    count = 0\n",
      "    for i in range(total):\n",
      "        x = np.random.rand()\n",
      "        y = np.random.rand()\n",
      "        if(x**2+y**2<1):\n",
      "            count += 1\n",
      "    return 4*count/total\n",
      "\n",
      "        \n",
      "print (pi())  \n",
      "\n"
     ],
     "language": "python",
     "metadata": {},
     "outputs": [
      {
       "output_type": "stream",
       "stream": "stdout",
       "text": [
        "3.126\n"
       ]
      }
     ],
     "prompt_number": 38
    }
   ],
   "metadata": {}
  }
 ]
}