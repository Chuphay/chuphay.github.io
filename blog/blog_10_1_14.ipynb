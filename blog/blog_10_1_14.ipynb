{
 "metadata": {
  "name": ""
 },
 "nbformat": 3,
 "nbformat_minor": 0,
 "worksheets": [
  {
   "cells": [
    {
     "cell_type": "code",
     "collapsed": false,
     "input": [
      "import iAnimation as iA\n",
      "import imp\n",
      "iA = imp.reload(iA)\n",
      "\n",
      "\n",
      "iA._draw  =  \"\"\"function draw(x,y){ \n",
      "    context.beginPath();\n",
      "    context.arc(x, y, 5, 0, 2 * Math.PI, false);\n",
      "    context.fillStyle = 'green';\n",
      "    context.fill();\n",
      "    context.lineWidth = 1;\n",
      "    context.strokeStyle = '#003300';\n",
      "    context.stroke();\n",
      "    //context.rect(x, y, 1/scaleConstant, 1/scaleConstant);\n",
      "    //context.fillStyle = 'red';\n",
      "    //context.fill();  \n",
      "}\\n\"\"\"\n",
      "\n",
      "initial_x = [8,3,10]\n",
      "def Lorenz(x):\n",
      "    x_temp = (10*x[1] - 10*x[0])/300\n",
      "    y_temp = (x[0]*(28 -x[2]) - x[1])/300\n",
      "    z_temp = (x[0]*x[1] - (8.0/3)*x[2])/300\n",
      "    return [x[0]+x_temp, x[1]+ y_temp, x[2]+z_temp]\n",
      "\n",
      "\n",
      "screen = iA.iAnimation(scale = 5, x = 50, y = 30)       \n",
      "screen.next_position(Lorenz)\n",
      "\n",
      "\n",
      "screen.animate(init = initial_x, clear_screen = True, tick = 1)\n",
      "\n"
     ],
     "language": "python",
     "metadata": {},
     "outputs": [
      {
       "html": [
        "<canvas id='canvas' width = '600px' height = '400px'  style='border:1px solid #000000; background-color: grey;'>\n",
        "        </canvas>\n",
        "<script>\n",
        "var canvas = document.getElementById('canvas');\n",
        "var context = canvas.getContext('2d');\n",
        "var scaleConstant = 5;\n",
        "var x_shift = 50*scaleConstant;\n",
        "var y_shift = 30*scaleConstant;\n",
        "context.transform(scaleConstant,0,0,scaleConstant,x_shift, y_shift);\n",
        "window.requestAnimFrame = (function(callback) {\n",
        "    return window.requestAnimationFrame || \n",
        "    window.webkitRequestAnimationFrame || \n",
        "    window.mozRequestAnimationFrame || \n",
        "    window.oRequestAnimationFrame || \n",
        "    window.msRequestAnimationFrame ||\n",
        "    function(callback) {\n",
        "          window.setTimeout(callback, 1000 / 90);\n",
        "    };})();\n",
        "function draw(x,y){ \n",
        "    context.beginPath();\n",
        "    context.arc(x, y, 5, 0, 2 * Math.PI, false);\n",
        "    context.fillStyle = 'green';\n",
        "    context.fill();\n",
        "    context.lineWidth = 1;\n",
        "    context.strokeStyle = '#003300';\n",
        "    context.stroke();\n",
        "    //context.rect(x, y, 1/scaleConstant, 1/scaleConstant);\n",
        "    //context.fillStyle = 'red';\n",
        "    //context.fill();  \n",
        "}\n",
        "function next(x) {\n",
        "\tvar x_temp = (10*x[1] - 10*x[0])/300;\n",
        "\tvar y_temp = (x[0]*(28 -x[2]) - x[1])/300;\n",
        "\tvar z_temp = (x[0]*x[1] - (8.0/3)*x[2])/300;\n",
        "\treturn [x[0]+x_temp, x[1]+ y_temp, x[2]+z_temp];\n",
        "}\n",
        "var x = [8, 3, 10];\n",
        "ticker = 0;       \n",
        "function main(){\n",
        "    context.clearRect(-50,-30, canvas.width/scaleConstant,canvas.height/scaleConstant);\n",
        "    ticker++;\n",
        "    if(ticker >= 1){\n",
        "        ticker = 0;\n",
        "        x = next(x);\n",
        "    }    \n",
        " \n",
        "        \n",
        "    draw(x[0],x[1]);\n",
        "        \n",
        "    requestAnimFrame(function(){main();}); \n",
        "}\n",
        "main();\n",
        "</script><p>message</p>"
       ],
       "metadata": {},
       "output_type": "pyout",
       "prompt_number": 3,
       "text": [
        "<IPython.core.display.HTML at 0xb0cafe8c>"
       ]
      }
     ],
     "prompt_number": 3
    },
    {
     "cell_type": "code",
     "collapsed": false,
     "input": [],
     "language": "python",
     "metadata": {},
     "outputs": [],
     "prompt_number": 4
    },
    {
     "cell_type": "code",
     "collapsed": false,
     "input": [
      "from IPython.core.display import HTML\n",
      "HTML('<p>yo</p>')"
     ],
     "language": "python",
     "metadata": {},
     "outputs": [
      {
       "html": [
        "<p>yo</p>"
       ],
       "metadata": {},
       "output_type": "pyout",
       "prompt_number": 3,
       "text": [
        "<IPython.core.display.HTML at 0x1c0ed90>"
       ]
      }
     ],
     "prompt_number": 3
    }
   ],
   "metadata": {}
  }
 ]
}